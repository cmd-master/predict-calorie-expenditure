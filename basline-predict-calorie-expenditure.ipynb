{
 "cells": [
  {
   "cell_type": "markdown",
   "id": "5f0c6e78",
   "metadata": {
    "papermill": {
     "duration": 0.003446,
     "end_time": "2025-05-07T00:36:10.840961",
     "exception": false,
     "start_time": "2025-05-07T00:36:10.837515",
     "status": "completed"
    },
    "tags": []
   },
   "source": [
    "# Load"
   ]
  },
  {
   "cell_type": "code",
   "execution_count": 1,
   "id": "b2519f86",
   "metadata": {
    "_cell_guid": "b1076dfc-b9ad-4769-8c92-a6c4dae69d19",
    "_uuid": "8f2839f25d086af736a60e9eeb907d3b93b6e0e5",
    "execution": {
     "iopub.execute_input": "2025-05-07T00:36:10.847709Z",
     "iopub.status.busy": "2025-05-07T00:36:10.847405Z",
     "iopub.status.idle": "2025-05-07T00:36:14.110383Z",
     "shell.execute_reply": "2025-05-07T00:36:14.109019Z"
    },
    "papermill": {
     "duration": 3.26865,
     "end_time": "2025-05-07T00:36:14.112456",
     "exception": false,
     "start_time": "2025-05-07T00:36:10.843806",
     "status": "completed"
    },
    "tags": []
   },
   "outputs": [],
   "source": [
    "import pandas as pd\n",
    "import numpy as np\n",
    "import warnings\n",
    "import seaborn as sns\n",
    "warnings.filterwarnings('ignore')"
   ]
  },
  {
   "cell_type": "code",
   "execution_count": 2,
   "id": "ef1ef571",
   "metadata": {
    "execution": {
     "iopub.execute_input": "2025-05-07T00:36:14.120385Z",
     "iopub.status.busy": "2025-05-07T00:36:14.119956Z",
     "iopub.status.idle": "2025-05-07T00:36:15.319599Z",
     "shell.execute_reply": "2025-05-07T00:36:15.318819Z"
    },
    "papermill": {
     "duration": 1.205146,
     "end_time": "2025-05-07T00:36:15.321116",
     "exception": false,
     "start_time": "2025-05-07T00:36:14.115970",
     "status": "completed"
    },
    "tags": []
   },
   "outputs": [],
   "source": [
    "df = pd.read_csv('/kaggle/input/playground-series-s5e5/train.csv')\n",
    "df.columns = df.columns.str.lower()\n",
    "num = df.select_dtypes(include='number').columns.to_list()\n",
    "cat = df.select_dtypes(include='object').columns.to_list()\n",
    "target = 'calories'\n",
    "num.remove(target)\n",
    "\n",
    "from sklearn.model_selection import train_test_split\n",
    "train, test = train_test_split(df, test_size=.2)"
   ]
  },
  {
   "cell_type": "markdown",
   "id": "5cb618ce",
   "metadata": {
    "papermill": {
     "duration": 0.002864,
     "end_time": "2025-05-07T00:36:15.330347",
     "exception": false,
     "start_time": "2025-05-07T00:36:15.327483",
     "status": "completed"
    },
    "tags": []
   },
   "source": [
    "# Data Science"
   ]
  },
  {
   "cell_type": "code",
   "execution_count": 3,
   "id": "e7ddaf29",
   "metadata": {
    "execution": {
     "iopub.execute_input": "2025-05-07T00:36:15.337107Z",
     "iopub.status.busy": "2025-05-07T00:36:15.336805Z",
     "iopub.status.idle": "2025-05-07T00:36:15.468045Z",
     "shell.execute_reply": "2025-05-07T00:36:15.467346Z"
    },
    "papermill": {
     "duration": 0.135683,
     "end_time": "2025-05-07T00:36:15.469113",
     "exception": false,
     "start_time": "2025-05-07T00:36:15.333430",
     "status": "completed"
    },
    "tags": []
   },
   "outputs": [
    {
     "data": {
      "text/plain": [
       "duration      0.959908\n",
       "heart_rate    0.908748\n",
       "body_temp     0.828671\n",
       "age           0.145683\n",
       "weight        0.015863\n",
       "id            0.001148\n",
       "height       -0.004026\n",
       "dtype: float64"
      ]
     },
     "execution_count": 3,
     "metadata": {},
     "output_type": "execute_result"
    }
   ],
   "source": [
    "df[num].corrwith(df[target]).sort_values(ascending=False)"
   ]
  },
  {
   "cell_type": "markdown",
   "id": "d44dfca1",
   "metadata": {
    "papermill": {
     "duration": 0.002201,
     "end_time": "2025-05-07T00:36:15.473998",
     "exception": false,
     "start_time": "2025-05-07T00:36:15.471797",
     "status": "completed"
    },
    "tags": []
   },
   "source": [
    "# Machine"
   ]
  },
  {
   "cell_type": "code",
   "execution_count": 4,
   "id": "b1cf4aee",
   "metadata": {
    "execution": {
     "iopub.execute_input": "2025-05-07T00:36:15.479767Z",
     "iopub.status.busy": "2025-05-07T00:36:15.479525Z",
     "iopub.status.idle": "2025-05-07T00:36:15.717077Z",
     "shell.execute_reply": "2025-05-07T00:36:15.716400Z"
    },
    "papermill": {
     "duration": 0.241938,
     "end_time": "2025-05-07T00:36:15.718386",
     "exception": false,
     "start_time": "2025-05-07T00:36:15.476448",
     "status": "completed"
    },
    "tags": []
   },
   "outputs": [],
   "source": [
    "from sklearn.compose import make_column_transformer\n",
    "from sklearn.pipeline import make_pipeline\n",
    "from sklearn.preprocessing import OneHotEncoder, StandardScaler\n",
    "from sklearn.impute import SimpleImputer"
   ]
  },
  {
   "cell_type": "code",
   "execution_count": 5,
   "id": "325b0208",
   "metadata": {
    "execution": {
     "iopub.execute_input": "2025-05-07T00:36:15.724968Z",
     "iopub.status.busy": "2025-05-07T00:36:15.724228Z",
     "iopub.status.idle": "2025-05-07T00:36:16.130376Z",
     "shell.execute_reply": "2025-05-07T00:36:16.129413Z"
    },
    "papermill": {
     "duration": 0.410485,
     "end_time": "2025-05-07T00:36:16.131664",
     "exception": false,
     "start_time": "2025-05-07T00:36:15.721179",
     "status": "completed"
    },
    "tags": []
   },
   "outputs": [],
   "source": [
    "processor = make_column_transformer(\n",
    "    (make_pipeline(SimpleImputer(), StandardScaler()), num)\n",
    "    , (OneHotEncoder(sparse_output=False, handle_unknown='ignore'), cat)\n",
    ")\n",
    "\n",
    "processor.fit(train)\n",
    "train_pre = processor.transform(train)"
   ]
  },
  {
   "cell_type": "code",
   "execution_count": 6,
   "id": "48746499",
   "metadata": {
    "execution": {
     "iopub.execute_input": "2025-05-07T00:36:16.138144Z",
     "iopub.status.busy": "2025-05-07T00:36:16.137859Z",
     "iopub.status.idle": "2025-05-07T00:36:16.278775Z",
     "shell.execute_reply": "2025-05-07T00:36:16.278030Z"
    },
    "papermill": {
     "duration": 0.145586,
     "end_time": "2025-05-07T00:36:16.280101",
     "exception": false,
     "start_time": "2025-05-07T00:36:16.134515",
     "status": "completed"
    },
    "tags": []
   },
   "outputs": [],
   "source": [
    "from sklearn.model_selection import cross_val_score, cross_validate\n",
    "from sklearn.linear_model import LinearRegression, Ridge\n",
    "from sklearn.ensemble import RandomForestRegressor"
   ]
  },
  {
   "cell_type": "code",
   "execution_count": 7,
   "id": "e5002229",
   "metadata": {
    "execution": {
     "iopub.execute_input": "2025-05-07T00:36:16.286252Z",
     "iopub.status.busy": "2025-05-07T00:36:16.286039Z",
     "iopub.status.idle": "2025-05-07T00:36:18.621054Z",
     "shell.execute_reply": "2025-05-07T00:36:18.620437Z"
    },
    "papermill": {
     "duration": 2.3394,
     "end_time": "2025-05-07T00:36:18.622265",
     "exception": false,
     "start_time": "2025-05-07T00:36:16.282865",
     "status": "completed"
    },
    "tags": []
   },
   "outputs": [
    {
     "name": "stdout",
     "output_type": "stream",
     "text": [
      "11.099682003591365\n",
      "0.9683695279739778\n"
     ]
    }
   ],
   "source": [
    "lin = LinearRegression()\n",
    "lin.fit(train_pre, train[target])\n",
    "print(-cross_val_score(lin, train_pre, train[target], scoring='neg_root_mean_squared_error').mean())\n",
    "print(cross_val_score(lin, train_pre, train[target], scoring='r2').mean())"
   ]
  },
  {
   "cell_type": "code",
   "execution_count": 8,
   "id": "0fa6a39f",
   "metadata": {
    "execution": {
     "iopub.execute_input": "2025-05-07T00:36:18.628427Z",
     "iopub.status.busy": "2025-05-07T00:36:18.628234Z",
     "iopub.status.idle": "2025-05-07T00:36:19.354241Z",
     "shell.execute_reply": "2025-05-07T00:36:19.353629Z"
    },
    "papermill": {
     "duration": 0.7302,
     "end_time": "2025-05-07T00:36:19.355435",
     "exception": false,
     "start_time": "2025-05-07T00:36:18.625235",
     "status": "completed"
    },
    "tags": []
   },
   "outputs": [
    {
     "name": "stdout",
     "output_type": "stream",
     "text": [
      "11.099682002562805\n",
      "0.9683695279689948\n"
     ]
    }
   ],
   "source": [
    "rdg = Ridge()\n",
    "rdg.fit(train_pre, train[target])\n",
    "print(-cross_val_score(rdg, train_pre, train[target], scoring='neg_root_mean_squared_error').mean())\n",
    "print(cross_val_score(rdg, train_pre, train[target], scoring='r2').mean())"
   ]
  },
  {
   "cell_type": "code",
   "execution_count": 9,
   "id": "c568e287",
   "metadata": {
    "execution": {
     "iopub.execute_input": "2025-05-07T00:36:19.362503Z",
     "iopub.status.busy": "2025-05-07T00:36:19.362280Z",
     "iopub.status.idle": "2025-05-07T00:36:19.366382Z",
     "shell.execute_reply": "2025-05-07T00:36:19.365345Z"
    },
    "papermill": {
     "duration": 0.009187,
     "end_time": "2025-05-07T00:36:19.367894",
     "exception": false,
     "start_time": "2025-05-07T00:36:19.358707",
     "status": "completed"
    },
    "tags": []
   },
   "outputs": [],
   "source": [
    "# rfr = RandomForestRegressor()\n",
    "# rfr.fit(train_pre, train[target])\n",
    "# pd.DataFrame(cross_validate(rfr, train_pre, train[target], scoring=['neg_root_mean_squared_error', 'r2'])).mean()"
   ]
  },
  {
   "cell_type": "code",
   "execution_count": 10,
   "id": "8937a1cd",
   "metadata": {
    "execution": {
     "iopub.execute_input": "2025-05-07T00:36:19.375979Z",
     "iopub.status.busy": "2025-05-07T00:36:19.375648Z",
     "iopub.status.idle": "2025-05-07T00:36:19.379847Z",
     "shell.execute_reply": "2025-05-07T00:36:19.378881Z"
    },
    "papermill": {
     "duration": 0.009754,
     "end_time": "2025-05-07T00:36:19.381142",
     "exception": false,
     "start_time": "2025-05-07T00:36:19.371388",
     "status": "completed"
    },
    "tags": []
   },
   "outputs": [],
   "source": [
    "model = lin\n",
    "pipe = make_pipeline(processor, lin)"
   ]
  },
  {
   "cell_type": "markdown",
   "id": "262809db",
   "metadata": {
    "papermill": {
     "duration": 0.002493,
     "end_time": "2025-05-07T00:36:19.386827",
     "exception": false,
     "start_time": "2025-05-07T00:36:19.384334",
     "status": "completed"
    },
    "tags": []
   },
   "source": [
    "# Residuals"
   ]
  },
  {
   "cell_type": "code",
   "execution_count": 11,
   "id": "b8a7a5da",
   "metadata": {
    "execution": {
     "iopub.execute_input": "2025-05-07T00:36:19.395226Z",
     "iopub.status.busy": "2025-05-07T00:36:19.394927Z",
     "iopub.status.idle": "2025-05-07T00:36:20.057004Z",
     "shell.execute_reply": "2025-05-07T00:36:20.055683Z"
    },
    "papermill": {
     "duration": 0.667795,
     "end_time": "2025-05-07T00:36:20.058484",
     "exception": false,
     "start_time": "2025-05-07T00:36:19.390689",
     "status": "completed"
    },
    "tags": []
   },
   "outputs": [
    {
     "data": {
      "image/png": "[encoded data removed]",
      "text/plain": [
       "<Figure size 640x480 with 1 Axes>"
      ]
     },
     "metadata": {},
     "output_type": "display_data"
    }
   ],
   "source": [
    "preds = pipe.predict(test)\n",
    "sns.scatterplot(x=test[target], y=preds);"
   ]
  },
  {
   "cell_type": "markdown",
   "id": "bf750d09",
   "metadata": {
    "papermill": {
     "duration": 0.003349,
     "end_time": "2025-05-07T00:36:20.066081",
     "exception": false,
     "start_time": "2025-05-07T00:36:20.062732",
     "status": "completed"
    },
    "tags": []
   },
   "source": [
    "# Submission"
   ]
  },
  {
   "cell_type": "code",
   "execution_count": 12,
   "id": "283aa90a",
   "metadata": {
    "execution": {
     "iopub.execute_input": "2025-05-07T00:36:20.074590Z",
     "iopub.status.busy": "2025-05-07T00:36:20.074274Z",
     "iopub.status.idle": "2025-05-07T00:36:20.266794Z",
     "shell.execute_reply": "2025-05-07T00:36:20.265652Z"
    },
    "papermill": {
     "duration": 0.198557,
     "end_time": "2025-05-07T00:36:20.268203",
     "exception": false,
     "start_time": "2025-05-07T00:36:20.069646",
     "status": "completed"
    },
    "tags": []
   },
   "outputs": [],
   "source": [
    "samp = pd.read_csv('/kaggle/input/playground-series-s5e5/test.csv')"
   ]
  },
  {
   "cell_type": "code",
   "execution_count": 13,
   "id": "c1d33d5a",
   "metadata": {
    "execution": {
     "iopub.execute_input": "2025-05-07T00:36:20.277679Z",
     "iopub.status.busy": "2025-05-07T00:36:20.277413Z",
     "iopub.status.idle": "2025-05-07T00:36:20.281488Z",
     "shell.execute_reply": "2025-05-07T00:36:20.280782Z"
    },
    "papermill": {
     "duration": 0.010448,
     "end_time": "2025-05-07T00:36:20.282626",
     "exception": false,
     "start_time": "2025-05-07T00:36:20.272178",
     "status": "completed"
    },
    "tags": []
   },
   "outputs": [],
   "source": [
    "samp.columns = samp.columns.str.lower()"
   ]
  },
  {
   "cell_type": "code",
   "execution_count": 14,
   "id": "30c4011f",
   "metadata": {
    "execution": {
     "iopub.execute_input": "2025-05-07T00:36:20.291349Z",
     "iopub.status.busy": "2025-05-07T00:36:20.291052Z",
     "iopub.status.idle": "2025-05-07T00:36:20.693390Z",
     "shell.execute_reply": "2025-05-07T00:36:20.692573Z"
    },
    "papermill": {
     "duration": 0.40829,
     "end_time": "2025-05-07T00:36:20.694944",
     "exception": false,
     "start_time": "2025-05-07T00:36:20.286654",
     "status": "completed"
    },
    "tags": []
   },
   "outputs": [],
   "source": [
    "preds = pipe.predict(samp)\n",
    "pd.DataFrame({\n",
    "    'id': samp['id']\n",
    "    , 'Calories': preds\n",
    "}).to_csv('submission.csv', index=False)"
   ]
  },
  {
   "cell_type": "code",
   "execution_count": null,
   "id": "e80e5ada",
   "metadata": {
    "papermill": {
     "duration": 0.003737,
     "end_time": "2025-05-07T00:36:20.702511",
     "exception": false,
     "start_time": "2025-05-07T00:36:20.698774",
     "status": "completed"
    },
    "tags": []
   },
   "outputs": [],
   "source": []
  }
 ],
 "metadata": {
  "kaggle": {
   "accelerator": "none",
   "dataSources": [
    {
     "databundleVersionId": 11893428,
     "sourceId": 91716,
     "sourceType": "competition"
    }
   ],
   "dockerImageVersionId": 31012,
   "isGpuEnabled": false,
   "isInternetEnabled": true,
   "language": "python",
   "sourceType": "notebook"
  },
  "kernelspec": {
   "display_name": "Python 3",
   "language": "python",
   "name": "python3"
  },
  "language_info": {
   "codemirror_mode": {
    "name": "ipython",
    "version": 3
   },
   "file_extension": ".py",
   "mimetype": "text/x-python",
   "name": "python",
   "nbconvert_exporter": "python",
   "pygments_lexer": "ipython3",
   "version": "3.11.11"
  },
  "papermill": {
   "default_parameters": {},
   "duration": 14.481535,
   "end_time": "2025-05-07T00:36:21.326003",
   "environment_variables": {},
   "exception": null,
   "input_path": "__notebook__.ipynb",
   "output_path": "__notebook__.ipynb",
   "parameters": {},
   "start_time": "2025-05-07T00:36:06.844468",
   "version": "2.6.0"
  }
 },
 "nbformat": 4,
 "nbformat_minor": 5
}
