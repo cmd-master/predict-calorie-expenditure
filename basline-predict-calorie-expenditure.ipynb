{
 "cells": [
  {
   "cell_type": "markdown",
   "id": "10f838c1",
   "metadata": {
    "papermill": {
     "duration": 0.004434,
     "end_time": "2025-05-07T00:41:44.407825",
     "exception": false,
     "start_time": "2025-05-07T00:41:44.403391",
     "status": "completed"
    },
    "tags": []
   },
   "source": [
    "# Load"
   ]
  },
  {
   "cell_type": "code",
   "execution_count": 1,
   "id": "21813acc",
   "metadata": {
    "_cell_guid": "b1076dfc-b9ad-4769-8c92-a6c4dae69d19",
    "_uuid": "8f2839f25d086af736a60e9eeb907d3b93b6e0e5",
    "execution": {
     "iopub.execute_input": "2025-05-07T00:41:44.416567Z",
     "iopub.status.busy": "2025-05-07T00:41:44.416187Z",
     "iopub.status.idle": "2025-05-07T00:41:47.898639Z",
     "shell.execute_reply": "2025-05-07T00:41:47.897729Z"
    },
    "papermill": {
     "duration": 3.488917,
     "end_time": "2025-05-07T00:41:47.900556",
     "exception": false,
     "start_time": "2025-05-07T00:41:44.411639",
     "status": "completed"
    },
    "tags": []
   },
   "outputs": [],
   "source": [
    "import pandas as pd\n",
    "import numpy as np\n",
    "import warnings\n",
    "import seaborn as sns\n",
    "warnings.filterwarnings('ignore')"
   ]
  },
  {
   "cell_type": "code",
   "execution_count": 2,
   "id": "09194fcd",
   "metadata": {
    "execution": {
     "iopub.execute_input": "2025-05-07T00:41:47.915038Z",
     "iopub.status.busy": "2025-05-07T00:41:47.914012Z",
     "iopub.status.idle": "2025-05-07T00:41:49.441052Z",
     "shell.execute_reply": "2025-05-07T00:41:49.440117Z"
    },
    "papermill": {
     "duration": 1.535714,
     "end_time": "2025-05-07T00:41:49.442726",
     "exception": false,
     "start_time": "2025-05-07T00:41:47.907012",
     "status": "completed"
    },
    "tags": []
   },
   "outputs": [],
   "source": [
    "df = pd.read_csv('/kaggle/input/playground-series-s5e5/train.csv')\n",
    "df.columns = df.columns.str.lower()\n",
    "num = df.select_dtypes(include='number').columns.to_list()\n",
    "cat = df.select_dtypes(include='object').columns.to_list()\n",
    "target = 'calories'\n",
    "num.remove(target)\n",
    "\n",
    "from sklearn.model_selection import train_test_split\n",
    "train, test = train_test_split(df, test_size=.2)"
   ]
  },
  {
   "cell_type": "markdown",
   "id": "7eeedc35",
   "metadata": {
    "papermill": {
     "duration": 0.00328,
     "end_time": "2025-05-07T00:41:49.449962",
     "exception": false,
     "start_time": "2025-05-07T00:41:49.446682",
     "status": "completed"
    },
    "tags": []
   },
   "source": [
    "# Data Science"
   ]
  },
  {
   "cell_type": "code",
   "execution_count": 3,
   "id": "7a2bae0d",
   "metadata": {
    "execution": {
     "iopub.execute_input": "2025-05-07T00:41:49.458153Z",
     "iopub.status.busy": "2025-05-07T00:41:49.457851Z",
     "iopub.status.idle": "2025-05-07T00:41:49.626627Z",
     "shell.execute_reply": "2025-05-07T00:41:49.625803Z"
    },
    "papermill": {
     "duration": 0.174621,
     "end_time": "2025-05-07T00:41:49.628212",
     "exception": false,
     "start_time": "2025-05-07T00:41:49.453591",
     "status": "completed"
    },
    "tags": []
   },
   "outputs": [
    {
     "data": {
      "text/plain": [
       "duration      0.959908\n",
       "heart_rate    0.908748\n",
       "body_temp     0.828671\n",
       "age           0.145683\n",
       "weight        0.015863\n",
       "id            0.001148\n",
       "height       -0.004026\n",
       "dtype: float64"
      ]
     },
     "execution_count": 3,
     "metadata": {},
     "output_type": "execute_result"
    }
   ],
   "source": [
    "df[num].corrwith(df[target]).sort_values(ascending=False)"
   ]
  },
  {
   "cell_type": "markdown",
   "id": "069dfd7f",
   "metadata": {
    "papermill": {
     "duration": 0.003333,
     "end_time": "2025-05-07T00:41:49.635255",
     "exception": false,
     "start_time": "2025-05-07T00:41:49.631922",
     "status": "completed"
    },
    "tags": []
   },
   "source": [
    "# Machine"
   ]
  },
  {
   "cell_type": "code",
   "execution_count": 4,
   "id": "d882e62e",
   "metadata": {
    "execution": {
     "iopub.execute_input": "2025-05-07T00:41:49.643429Z",
     "iopub.status.busy": "2025-05-07T00:41:49.643141Z",
     "iopub.status.idle": "2025-05-07T00:41:49.863840Z",
     "shell.execute_reply": "2025-05-07T00:41:49.863071Z"
    },
    "papermill": {
     "duration": 0.226641,
     "end_time": "2025-05-07T00:41:49.865424",
     "exception": false,
     "start_time": "2025-05-07T00:41:49.638783",
     "status": "completed"
    },
    "tags": []
   },
   "outputs": [],
   "source": [
    "from sklearn.compose import make_column_transformer\n",
    "from sklearn.pipeline import make_pipeline\n",
    "from sklearn.preprocessing import OneHotEncoder, StandardScaler\n",
    "from sklearn.impute import SimpleImputer"
   ]
  },
  {
   "cell_type": "code",
   "execution_count": 5,
   "id": "8a5c7c6a",
   "metadata": {
    "execution": {
     "iopub.execute_input": "2025-05-07T00:41:49.874368Z",
     "iopub.status.busy": "2025-05-07T00:41:49.873614Z",
     "iopub.status.idle": "2025-05-07T00:41:50.525310Z",
     "shell.execute_reply": "2025-05-07T00:41:50.524578Z"
    },
    "papermill": {
     "duration": 0.657687,
     "end_time": "2025-05-07T00:41:50.526834",
     "exception": false,
     "start_time": "2025-05-07T00:41:49.869147",
     "status": "completed"
    },
    "tags": []
   },
   "outputs": [],
   "source": [
    "processor = make_column_transformer(\n",
    "    (make_pipeline(SimpleImputer(), StandardScaler()), num)\n",
    "    , (OneHotEncoder(sparse_output=False, handle_unknown='ignore'), cat)\n",
    ")\n",
    "\n",
    "processor.fit(train)\n",
    "train_pre = processor.transform(train)"
   ]
  },
  {
   "cell_type": "code",
   "execution_count": 6,
   "id": "7257cb72",
   "metadata": {
    "execution": {
     "iopub.execute_input": "2025-05-07T00:41:50.535216Z",
     "iopub.status.busy": "2025-05-07T00:41:50.534925Z",
     "iopub.status.idle": "2025-05-07T00:41:50.683944Z",
     "shell.execute_reply": "2025-05-07T00:41:50.683266Z"
    },
    "papermill": {
     "duration": 0.154967,
     "end_time": "2025-05-07T00:41:50.685485",
     "exception": false,
     "start_time": "2025-05-07T00:41:50.530518",
     "status": "completed"
    },
    "tags": []
   },
   "outputs": [],
   "source": [
    "from sklearn.model_selection import cross_val_score, cross_validate\n",
    "from sklearn.linear_model import LinearRegression, Ridge\n",
    "from sklearn.ensemble import RandomForestRegressor"
   ]
  },
  {
   "cell_type": "code",
   "execution_count": 7,
   "id": "20dd4274",
   "metadata": {
    "execution": {
     "iopub.execute_input": "2025-05-07T00:41:50.694014Z",
     "iopub.status.busy": "2025-05-07T00:41:50.693432Z",
     "iopub.status.idle": "2025-05-07T00:41:54.205861Z",
     "shell.execute_reply": "2025-05-07T00:41:54.205064Z"
    },
    "papermill": {
     "duration": 3.518287,
     "end_time": "2025-05-07T00:41:54.207454",
     "exception": false,
     "start_time": "2025-05-07T00:41:50.689167",
     "status": "completed"
    },
    "tags": []
   },
   "outputs": [
    {
     "name": "stdout",
     "output_type": "stream",
     "text": [
      "11.07195560601276\n",
      "0.9684844719307227\n"
     ]
    }
   ],
   "source": [
    "lin = LinearRegression()\n",
    "lin.fit(train_pre, train[target])\n",
    "print(-cross_val_score(lin, train_pre, train[target], scoring='neg_root_mean_squared_error').mean())\n",
    "print(cross_val_score(lin, train_pre, train[target], scoring='r2').mean())"
   ]
  },
  {
   "cell_type": "code",
   "execution_count": 8,
   "id": "2538c0ee",
   "metadata": {
    "execution": {
     "iopub.execute_input": "2025-05-07T00:41:54.216241Z",
     "iopub.status.busy": "2025-05-07T00:41:54.215942Z",
     "iopub.status.idle": "2025-05-07T00:41:55.203436Z",
     "shell.execute_reply": "2025-05-07T00:41:55.202528Z"
    },
    "papermill": {
     "duration": 0.99338,
     "end_time": "2025-05-07T00:41:55.204796",
     "exception": false,
     "start_time": "2025-05-07T00:41:54.211416",
     "status": "completed"
    },
    "tags": []
   },
   "outputs": [
    {
     "name": "stdout",
     "output_type": "stream",
     "text": [
      "11.071955608339271\n",
      "0.9684844719261715\n"
     ]
    }
   ],
   "source": [
    "rdg = Ridge()\n",
    "rdg.fit(train_pre, train[target])\n",
    "print(-cross_val_score(rdg, train_pre, train[target], scoring='neg_root_mean_squared_error').mean())\n",
    "print(cross_val_score(rdg, train_pre, train[target], scoring='r2').mean())"
   ]
  },
  {
   "cell_type": "code",
   "execution_count": 9,
   "id": "dd633c31",
   "metadata": {
    "execution": {
     "iopub.execute_input": "2025-05-07T00:41:55.214190Z",
     "iopub.status.busy": "2025-05-07T00:41:55.213525Z",
     "iopub.status.idle": "2025-05-07T00:41:55.217394Z",
     "shell.execute_reply": "2025-05-07T00:41:55.216719Z"
    },
    "papermill": {
     "duration": 0.00979,
     "end_time": "2025-05-07T00:41:55.218641",
     "exception": false,
     "start_time": "2025-05-07T00:41:55.208851",
     "status": "completed"
    },
    "tags": []
   },
   "outputs": [],
   "source": [
    "# rfr = RandomForestRegressor()\n",
    "# rfr.fit(train_pre, train[target])\n",
    "# pd.DataFrame(cross_validate(rfr, train_pre, train[target], scoring=['neg_root_mean_squared_error', 'r2'])).mean()"
   ]
  },
  {
   "cell_type": "code",
   "execution_count": 10,
   "id": "3af30749",
   "metadata": {
    "execution": {
     "iopub.execute_input": "2025-05-07T00:41:55.228104Z",
     "iopub.status.busy": "2025-05-07T00:41:55.227245Z",
     "iopub.status.idle": "2025-05-07T00:41:55.231611Z",
     "shell.execute_reply": "2025-05-07T00:41:55.230970Z"
    },
    "papermill": {
     "duration": 0.010175,
     "end_time": "2025-05-07T00:41:55.232817",
     "exception": false,
     "start_time": "2025-05-07T00:41:55.222642",
     "status": "completed"
    },
    "tags": []
   },
   "outputs": [],
   "source": [
    "model = lin\n",
    "pipe = make_pipeline(processor, lin)"
   ]
  },
  {
   "cell_type": "markdown",
   "id": "c8fb3f93",
   "metadata": {
    "papermill": {
     "duration": 0.003285,
     "end_time": "2025-05-07T00:41:55.239763",
     "exception": false,
     "start_time": "2025-05-07T00:41:55.236478",
     "status": "completed"
    },
    "tags": []
   },
   "source": [
    "# Residuals"
   ]
  },
  {
   "cell_type": "code",
   "execution_count": 11,
   "id": "02eff538",
   "metadata": {
    "execution": {
     "iopub.execute_input": "2025-05-07T00:41:55.247853Z",
     "iopub.status.busy": "2025-05-07T00:41:55.247540Z",
     "iopub.status.idle": "2025-05-07T00:41:56.119675Z",
     "shell.execute_reply": "2025-05-07T00:41:56.118824Z"
    },
    "papermill": {
     "duration": 0.878821,
     "end_time": "2025-05-07T00:41:56.122111",
     "exception": false,
     "start_time": "2025-05-07T00:41:55.243290",
     "status": "completed"
    },
    "tags": []
   },
   "outputs": [
    {
     "data": {
      "image/png": "[encoded data removed]",
      "text/plain": [
       "<Figure size 640x480 with 1 Axes>"
      ]
     },
     "metadata": {},
     "output_type": "display_data"
    }
   ],
   "source": [
    "preds = pipe.predict(test)\n",
    "sns.scatterplot(x=test[target], y=preds);"
   ]
  },
  {
   "cell_type": "markdown",
   "id": "854adb83",
   "metadata": {
    "papermill": {
     "duration": 0.004679,
     "end_time": "2025-05-07T00:41:56.132058",
     "exception": false,
     "start_time": "2025-05-07T00:41:56.127379",
     "status": "completed"
    },
    "tags": []
   },
   "source": [
    "# Submission"
   ]
  },
  {
   "cell_type": "code",
   "execution_count": 12,
   "id": "3fed12ba",
   "metadata": {
    "execution": {
     "iopub.execute_input": "2025-05-07T00:41:56.143256Z",
     "iopub.status.busy": "2025-05-07T00:41:56.142595Z",
     "iopub.status.idle": "2025-05-07T00:41:56.382691Z",
     "shell.execute_reply": "2025-05-07T00:41:56.382055Z"
    },
    "papermill": {
     "duration": 0.247381,
     "end_time": "2025-05-07T00:41:56.384286",
     "exception": false,
     "start_time": "2025-05-07T00:41:56.136905",
     "status": "completed"
    },
    "tags": []
   },
   "outputs": [],
   "source": [
    "samp = pd.read_csv('/kaggle/input/playground-series-s5e5/test.csv')"
   ]
  },
  {
   "cell_type": "code",
   "execution_count": 13,
   "id": "9e4c2aa4",
   "metadata": {
    "execution": {
     "iopub.execute_input": "2025-05-07T00:41:56.396373Z",
     "iopub.status.busy": "2025-05-07T00:41:56.395853Z",
     "iopub.status.idle": "2025-05-07T00:41:56.400504Z",
     "shell.execute_reply": "2025-05-07T00:41:56.399631Z"
    },
    "papermill": {
     "duration": 0.012486,
     "end_time": "2025-05-07T00:41:56.401920",
     "exception": false,
     "start_time": "2025-05-07T00:41:56.389434",
     "status": "completed"
    },
    "tags": []
   },
   "outputs": [],
   "source": [
    "samp.columns = samp.columns.str.lower()"
   ]
  },
  {
   "cell_type": "code",
   "execution_count": 14,
   "id": "ab4c3ec3",
   "metadata": {
    "execution": {
     "iopub.execute_input": "2025-05-07T00:41:56.413527Z",
     "iopub.status.busy": "2025-05-07T00:41:56.412789Z",
     "iopub.status.idle": "2025-05-07T00:41:57.091929Z",
     "shell.execute_reply": "2025-05-07T00:41:57.090974Z"
    },
    "papermill": {
     "duration": 0.686612,
     "end_time": "2025-05-07T00:41:57.093601",
     "exception": false,
     "start_time": "2025-05-07T00:41:56.406989",
     "status": "completed"
    },
    "tags": []
   },
   "outputs": [],
   "source": [
    "preds = np.array(pipe.predict(samp))\n",
    "preds[preds < 0] = 0\n",
    "pd.DataFrame({\n",
    "    'id': samp['id']\n",
    "    , 'Calories': preds\n",
    "}).to_csv('submission.csv', index=False)"
   ]
  },
  {
   "cell_type": "raw",
   "id": "888675af",
   "metadata": {
    "execution": {
     "iopub.execute_input": "2025-05-07T00:39:36.718319Z",
     "iopub.status.busy": "2025-05-07T00:39:36.717724Z",
     "iopub.status.idle": "2025-05-07T00:39:36.830710Z",
     "shell.execute_reply": "2025-05-07T00:39:36.829824Z",
     "shell.execute_reply.started": "2025-05-07T00:39:36.718279Z"
    },
    "papermill": {
     "duration": 0.004833,
     "end_time": "2025-05-07T00:41:57.104035",
     "exception": false,
     "start_time": "2025-05-07T00:41:57.099202",
     "status": "completed"
    },
    "tags": []
   },
   "source": [
    "np.array(pipe.predict(samp))"
   ]
  },
  {
   "cell_type": "code",
   "execution_count": null,
   "id": "10af9797",
   "metadata": {
    "papermill": {
     "duration": 0.004734,
     "end_time": "2025-05-07T00:41:57.113855",
     "exception": false,
     "start_time": "2025-05-07T00:41:57.109121",
     "status": "completed"
    },
    "tags": []
   },
   "outputs": [],
   "source": []
  }
 ],
 "metadata": {
  "kaggle": {
   "accelerator": "none",
   "dataSources": [
    {
     "databundleVersionId": 11893428,
     "sourceId": 91716,
     "sourceType": "competition"
    }
   ],
   "dockerImageVersionId": 31012,
   "isGpuEnabled": false,
   "isInternetEnabled": true,
   "language": "python",
   "sourceType": "notebook"
  },
  "kernelspec": {
   "display_name": "Python 3",
   "language": "python",
   "name": "python3"
  },
  "language_info": {
   "codemirror_mode": {
    "name": "ipython",
    "version": 3
   },
   "file_extension": ".py",
   "mimetype": "text/x-python",
   "name": "python",
   "nbconvert_exporter": "python",
   "pygments_lexer": "ipython3",
   "version": "3.11.11"
  },
  "papermill": {
   "default_parameters": {},
   "duration": 18.088116,
   "end_time": "2025-05-07T00:41:57.839109",
   "environment_variables": {},
   "exception": null,
   "input_path": "__notebook__.ipynb",
   "output_path": "__notebook__.ipynb",
   "parameters": {},
   "start_time": "2025-05-07T00:41:39.750993",
   "version": "2.6.0"
  }
 },
 "nbformat": 4,
 "nbformat_minor": 5
}
